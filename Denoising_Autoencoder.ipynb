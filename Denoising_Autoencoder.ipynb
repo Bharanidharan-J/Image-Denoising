{
 "cells": [
  {
   "cell_type": "code",
   "execution_count": 120,
   "id": "f780eb46",
   "metadata": {},
   "outputs": [
    {
     "name": "stdout",
     "output_type": "stream",
     "text": [
      "Enter path to your image file: C:\\Users\\HP\\OneDrive\\Desktop\\ima4.png\n"
     ]
    },
    {
     "data": {
      "image/png": "[encoded data removed]",
      "text/plain": [
       "<Figure size 500x400 with 3 Axes>"
      ]
     },
     "metadata": {},
     "output_type": "display_data"
    },
    {
     "name": "stdout",
     "output_type": "stream",
     "text": [
      "Mean Squared Error (MSE) Gaussian: 0.016427040850923585\n",
      "Peak Signal-to-Noise Ratio (PSNR) Gaussian: 17.844406628497897\n",
      "Structural Similarity Index (SSIM) Gaussian: 0.7235715243270744\n"
     ]
    },
    {
     "data": {
      "image/png": "[encoded data removed]",
      "text/plain": [
       "<Figure size 500x400 with 3 Axes>"
      ]
     },
     "metadata": {},
     "output_type": "display_data"
    },
    {
     "name": "stdout",
     "output_type": "stream",
     "text": [
      "Mean Squared Error (MSE) Salt & Pepper: 0.012731309\n",
      "Peak Signal-to-Noise Ratio (PSNR) Salt & Pepper: 18.951269393584845\n",
      "Structural Similarity Index (SSIM) Salt & Pepper: 0.7803920809408527\n"
     ]
    }
   ],
   "source": [
    "# Traditional Filters\n",
    "\n",
    "import numpy as np\n",
    "from skimage.util import random_noise\n",
    "from keras.preprocessing import image\n",
    "import matplotlib.pyplot as plt\n",
    "from skimage.metrics import structural_similarity as ssim\n",
    "\n",
    "def add_gaussian_noise(image, noise_factor=0.2):\n",
    "    noisy_image = image + noise_factor * np.random.normal(loc=0.0, scale=1.0, size=image.shape)\n",
    "    noisy_image = np.clip(noisy_image, 0., 1.)\n",
    "    return noisy_image\n",
    "\n",
    "def add_salt_and_pepper_noise(image, noise_amount=0.05):\n",
    "    noisy_image = image.copy()\n",
    "    salt_vs_pepper = 0.5\n",
    "    salt = np.ceil(noise_amount * image.size * salt_vs_pepper)\n",
    "    pepper = np.ceil(noise_amount * image.size * (1. - salt_vs_pepper))\n",
    "    \n",
    "    salt = max(int(salt), 1)\n",
    "    pepper = max(int(pepper), 1)\n",
    "\n",
    "    salt_coords = [np.random.randint(0, dim, salt) for dim in image.shape]\n",
    "    salt_coords = tuple(map(np.array, salt_coords)) \n",
    "    noisy_image[salt_coords] = 1\n",
    "\n",
    "    pepper_coords = [np.random.randint(0, dim, pepper) for dim in image.shape]\n",
    "    pepper_coords = tuple(map(np.array, pepper_coords)) \n",
    "    noisy_image[pepper_coords] = 0\n",
    "\n",
    "    return noisy_image\n",
    "\n",
    "image_path = input(\"Enter path to your image file: \")\n",
    "img = image.load_img(image_path, target_size=(28, 28), color_mode='grayscale')\n",
    "img_array = image.img_to_array(img)\n",
    "img_array /= 255.\n",
    "\n",
    "gaussian_noisy_img_array = add_gaussian_noise(img_array, noise_factor=noise_factor)\n",
    "salt_pepper_noisy_img_array = add_salt_and_pepper_noise(img_array, noise_amount=0.05)\n",
    "\n",
    "denoised_img_array_gaussian = cv2.GaussianBlur(gaussian_noisy_img_array.squeeze(), (3, 3), 0)\n",
    "denoised_img_array_salt_pepper = cv2.GaussianBlur(salt_pepper_noisy_img_array.squeeze(), (3, 3), 0)\n",
    "\n",
    "plt.figure(figsize=(5, 4))\n",
    "plt.subplot(2, 3, 2)\n",
    "plt.title('Noisy Image')\n",
    "plt.imshow(gaussian_noisy_img_array.squeeze(), cmap='gray')\n",
    "plt.axis('off')\n",
    "\n",
    "plt.subplot(2, 3, 1)\n",
    "plt.title('Original Image')\n",
    "plt.imshow(img_array.squeeze(), cmap='gray')\n",
    "plt.axis('off')\n",
    "\n",
    "plt.subplot(2, 3, 3)\n",
    "plt.title('Denoised Image')\n",
    "plt.imshow(denoised_img_array_gaussian, cmap='gray')\n",
    "plt.axis('off')\n",
    "plt.show()\n",
    "\n",
    "mse_gaussian = np.mean((img_array.squeeze() - denoised_img_array_gaussian) ** 2)\n",
    "psnr_gaussian = 10 * np.log10((1 ** 2) / mse_gaussian)\n",
    "ssim_gaussian = ssim(img_array.squeeze(), denoised_img_array_gaussian, data_range=1.0)\n",
    "\n",
    "print(\"Mean Squared Error (MSE) Gaussian:\", mse_gaussian)\n",
    "print(\"Peak Signal-to-Noise Ratio (PSNR) Gaussian:\", psnr_gaussian)\n",
    "print(\"Structural Similarity Index (SSIM) Gaussian:\", ssim_gaussian)\n",
    "\n",
    "plt.figure(figsize=(5, 4))\n",
    "plt.subplot(2, 3, 5)\n",
    "plt.title('Noisy Image')\n",
    "plt.imshow(salt_pepper_noisy_img_array.squeeze(), cmap='gray')\n",
    "plt.axis('off')\n",
    "\n",
    "plt.subplot(2, 3, 4)\n",
    "plt.title('Original Image')\n",
    "plt.imshow(img_array.squeeze(), cmap='gray')\n",
    "plt.axis('off')\n",
    "\n",
    "plt.subplot(2, 3, 6)\n",
    "plt.title('Denoised Image')\n",
    "plt.imshow(denoised_img_array_salt_pepper, cmap='gray')\n",
    "plt.axis('off')\n",
    "plt.show()\n",
    "\n",
    "mse_salt_pepper = np.mean((img_array.squeeze() - denoised_img_array_salt_pepper) ** 2)\n",
    "psnr_salt_pepper = 10 * np.log10((1 ** 2) / mse_salt_pepper)\n",
    "ssim_salt_pepper = ssim(img_array.squeeze(), denoised_img_array_salt_pepper, data_range=1.0)\n",
    "\n",
    "print(\"Mean Squared Error (MSE) Salt & Pepper:\", mse_salt_pepper)\n",
    "print(\"Peak Signal-to-Noise Ratio (PSNR) Salt & Pepper:\", psnr_salt_pepper)\n",
    "print(\"Structural Similarity Index (SSIM) Salt & Pepper:\", ssim_salt_pepper)"
   ]
  },
  {
   "cell_type": "code",
   "execution_count": 65,
   "id": "8e849177",
   "metadata": {},
   "outputs": [],
   "source": [
    "# Denoising Autoencoder\n",
    "\n",
    "import cv2\n",
    "import numpy as np\n",
    "import matplotlib.pyplot as plt\n",
    "import tensorflow as tf\n",
    "from tensorflow.keras.layers import Input, Conv2D, MaxPooling2D, UpSampling2D\n",
    "from tensorflow.keras.models import Model\n",
    "from tensorflow.keras.preprocessing import image\n",
    "from sklearn.metrics import mean_squared_error\n",
    "from skimage.metrics import structural_similarity as ssim"
   ]
  },
  {
   "cell_type": "code",
   "execution_count": 66,
   "id": "291280d6",
   "metadata": {},
   "outputs": [],
   "source": [
    "def add_gaussian_noise(image, noise_factor=0.3):\n",
    "    noisy_image = image + noise_factor * np.random.normal(loc=0.0, scale=1.0, size=image.shape)\n",
    "    noisy_image = np.clip(noisy_image, 0., 1.)\n",
    "    return noisy_image\n",
    "\n",
    "def add_salt_and_pepper_noise(image, noise_amount=0.05):\n",
    "    noisy_image = image.copy()\n",
    "    salt_vs_pepper = 0.5\n",
    "    salt = np.ceil(noise_amount * image.size * salt_vs_pepper)\n",
    "    pepper = np.ceil(noise_amount * image.size * (1. - salt_vs_pepper))\n",
    "    \n",
    "    salt = max(int(salt), 1)\n",
    "    pepper = max(int(pepper), 1)\n",
    "\n",
    "    salt_coords = [np.random.randint(0, dim, salt) for dim in image.shape]\n",
    "    salt_coords = tuple(map(np.array, salt_coords)) \n",
    "    noisy_image[salt_coords] = 1\n",
    "\n",
    "    pepper_coords = [np.random.randint(0, dim, pepper) for dim in image.shape]\n",
    "    pepper_coords = tuple(map(np.array, pepper_coords))  \n",
    "    noisy_image[pepper_coords] = 0\n",
    "\n",
    "    return noisy_image"
   ]
  },
  {
   "cell_type": "code",
   "execution_count": 67,
   "id": "b609fa6b",
   "metadata": {},
   "outputs": [
    {
     "name": "stdout",
     "output_type": "stream",
     "text": [
      "Epoch 1/50\n",
      "\u001b[1m938/938\u001b[0m \u001b[32m━━━━━━━━━━━━━━━━━━━━\u001b[0m\u001b[37m\u001b[0m \u001b[1m108s\u001b[0m 111ms/step - loss: 0.1445\n",
      "Epoch 2/50\n",
      "\u001b[1m938/938\u001b[0m \u001b[32m━━━━━━━━━━━━━━━━━━━━\u001b[0m\u001b[37m\u001b[0m \u001b[1m101s\u001b[0m 107ms/step - loss: 0.0817\n",
      "Epoch 3/50\n",
      "\u001b[1m938/938\u001b[0m \u001b[32m━━━━━━━━━━━━━━━━━━━━\u001b[0m\u001b[37m\u001b[0m \u001b[1m102s\u001b[0m 108ms/step - loss: 0.0791\n",
      "Epoch 4/50\n",
      "\u001b[1m938/938\u001b[0m \u001b[32m━━━━━━━━━━━━━━━━━━━━\u001b[0m\u001b[37m\u001b[0m \u001b[1m104s\u001b[0m 111ms/step - loss: 0.0778\n",
      "Epoch 5/50\n",
      "\u001b[1m938/938\u001b[0m \u001b[32m━━━━━━━━━━━━━━━━━━━━\u001b[0m\u001b[37m\u001b[0m \u001b[1m101s\u001b[0m 108ms/step - loss: 0.0770\n",
      "Epoch 6/50\n",
      "\u001b[1m938/938\u001b[0m \u001b[32m━━━━━━━━━━━━━━━━━━━━\u001b[0m\u001b[37m\u001b[0m \u001b[1m102s\u001b[0m 109ms/step - loss: 0.0765\n",
      "Epoch 7/50\n",
      "\u001b[1m938/938\u001b[0m \u001b[32m━━━━━━━━━━━━━━━━━━━━\u001b[0m\u001b[37m\u001b[0m \u001b[1m101s\u001b[0m 107ms/step - loss: 0.0765\n",
      "Epoch 8/50\n",
      "\u001b[1m938/938\u001b[0m \u001b[32m━━━━━━━━━━━━━━━━━━━━\u001b[0m\u001b[37m\u001b[0m \u001b[1m103s\u001b[0m 110ms/step - loss: 0.0758\n",
      "Epoch 9/50\n",
      "\u001b[1m938/938\u001b[0m \u001b[32m━━━━━━━━━━━━━━━━━━━━\u001b[0m\u001b[37m\u001b[0m \u001b[1m101s\u001b[0m 108ms/step - loss: 0.0756\n",
      "Epoch 10/50\n",
      "\u001b[1m938/938\u001b[0m \u001b[32m━━━━━━━━━━━━━━━━━━━━\u001b[0m\u001b[37m\u001b[0m \u001b[1m97s\u001b[0m 104ms/step - loss: 0.0754\n",
      "Epoch 11/50\n",
      "\u001b[1m938/938\u001b[0m \u001b[32m━━━━━━━━━━━━━━━━━━━━\u001b[0m\u001b[37m\u001b[0m \u001b[1m107s\u001b[0m 114ms/step - loss: 0.0753\n",
      "Epoch 12/50\n",
      "\u001b[1m938/938\u001b[0m \u001b[32m━━━━━━━━━━━━━━━━━━━━\u001b[0m\u001b[37m\u001b[0m \u001b[1m98s\u001b[0m 105ms/step - loss: 0.0751\n",
      "Epoch 13/50\n",
      "\u001b[1m938/938\u001b[0m \u001b[32m━━━━━━━━━━━━━━━━━━━━\u001b[0m\u001b[37m\u001b[0m \u001b[1m99s\u001b[0m 105ms/step - loss: 0.0751\n",
      "Epoch 14/50\n",
      "\u001b[1m938/938\u001b[0m \u001b[32m━━━━━━━━━━━━━━━━━━━━\u001b[0m\u001b[37m\u001b[0m \u001b[1m99s\u001b[0m 106ms/step - loss: 0.0750\n",
      "Epoch 15/50\n",
      "\u001b[1m938/938\u001b[0m \u001b[32m━━━━━━━━━━━━━━━━━━━━\u001b[0m\u001b[37m\u001b[0m \u001b[1m99s\u001b[0m 106ms/step - loss: 0.0748\n",
      "Epoch 16/50\n",
      "\u001b[1m938/938\u001b[0m \u001b[32m━━━━━━━━━━━━━━━━━━━━\u001b[0m\u001b[37m\u001b[0m \u001b[1m99s\u001b[0m 106ms/step - loss: 0.0747\n",
      "Epoch 17/50\n",
      "\u001b[1m938/938\u001b[0m \u001b[32m━━━━━━━━━━━━━━━━━━━━\u001b[0m\u001b[37m\u001b[0m \u001b[1m99s\u001b[0m 106ms/step - loss: 0.0748\n",
      "Epoch 18/50\n",
      "\u001b[1m938/938\u001b[0m \u001b[32m━━━━━━━━━━━━━━━━━━━━\u001b[0m\u001b[37m\u001b[0m \u001b[1m101s\u001b[0m 108ms/step - loss: 0.0747\n",
      "Epoch 19/50\n",
      "\u001b[1m938/938\u001b[0m \u001b[32m━━━━━━━━━━━━━━━━━━━━\u001b[0m\u001b[37m\u001b[0m \u001b[1m89s\u001b[0m 95ms/step - loss: 0.0745\n",
      "Epoch 20/50\n",
      "\u001b[1m938/938\u001b[0m \u001b[32m━━━━━━━━━━━━━━━━━━━━\u001b[0m\u001b[37m\u001b[0m \u001b[1m75s\u001b[0m 80ms/step - loss: 0.0747\n",
      "Epoch 21/50\n",
      "\u001b[1m938/938\u001b[0m \u001b[32m━━━━━━━━━━━━━━━━━━━━\u001b[0m\u001b[37m\u001b[0m \u001b[1m76s\u001b[0m 81ms/step - loss: 0.0748\n",
      "Epoch 22/50\n",
      "\u001b[1m938/938\u001b[0m \u001b[32m━━━━━━━━━━━━━━━━━━━━\u001b[0m\u001b[37m\u001b[0m \u001b[1m75s\u001b[0m 80ms/step - loss: 0.0743\n",
      "Epoch 23/50\n",
      "\u001b[1m938/938\u001b[0m \u001b[32m━━━━━━━━━━━━━━━━━━━━\u001b[0m\u001b[37m\u001b[0m \u001b[1m77s\u001b[0m 82ms/step - loss: 0.0745\n",
      "Epoch 24/50\n",
      "\u001b[1m938/938\u001b[0m \u001b[32m━━━━━━━━━━━━━━━━━━━━\u001b[0m\u001b[37m\u001b[0m \u001b[1m76s\u001b[0m 81ms/step - loss: 0.0744\n",
      "Epoch 25/50\n",
      "\u001b[1m938/938\u001b[0m \u001b[32m━━━━━━━━━━━━━━━━━━━━\u001b[0m\u001b[37m\u001b[0m \u001b[1m76s\u001b[0m 81ms/step - loss: 0.0744\n",
      "Epoch 26/50\n",
      "\u001b[1m938/938\u001b[0m \u001b[32m━━━━━━━━━━━━━━━━━━━━\u001b[0m\u001b[37m\u001b[0m \u001b[1m76s\u001b[0m 81ms/step - loss: 0.0743\n",
      "Epoch 27/50\n",
      "\u001b[1m938/938\u001b[0m \u001b[32m━━━━━━━━━━━━━━━━━━━━\u001b[0m\u001b[37m\u001b[0m \u001b[1m76s\u001b[0m 81ms/step - loss: 0.0742\n",
      "Epoch 28/50\n",
      "\u001b[1m938/938\u001b[0m \u001b[32m━━━━━━━━━━━━━━━━━━━━\u001b[0m\u001b[37m\u001b[0m \u001b[1m76s\u001b[0m 81ms/step - loss: 0.0743\n",
      "Epoch 29/50\n",
      "\u001b[1m938/938\u001b[0m \u001b[32m━━━━━━━━━━━━━━━━━━━━\u001b[0m\u001b[37m\u001b[0m \u001b[1m76s\u001b[0m 81ms/step - loss: 0.0741\n",
      "Epoch 30/50\n",
      "\u001b[1m938/938\u001b[0m \u001b[32m━━━━━━━━━━━━━━━━━━━━\u001b[0m\u001b[37m\u001b[0m \u001b[1m76s\u001b[0m 81ms/step - loss: 0.0742\n",
      "Epoch 31/50\n",
      "\u001b[1m938/938\u001b[0m \u001b[32m━━━━━━━━━━━━━━━━━━━━\u001b[0m\u001b[37m\u001b[0m \u001b[1m76s\u001b[0m 81ms/step - loss: 0.0742\n",
      "Epoch 32/50\n",
      "\u001b[1m938/938\u001b[0m \u001b[32m━━━━━━━━━━━━━━━━━━━━\u001b[0m\u001b[37m\u001b[0m \u001b[1m76s\u001b[0m 81ms/step - loss: 0.0742\n",
      "Epoch 33/50\n",
      "\u001b[1m938/938\u001b[0m \u001b[32m━━━━━━━━━━━━━━━━━━━━\u001b[0m\u001b[37m\u001b[0m \u001b[1m76s\u001b[0m 81ms/step - loss: 0.0740\n",
      "Epoch 34/50\n",
      "\u001b[1m938/938\u001b[0m \u001b[32m━━━━━━━━━━━━━━━━━━━━\u001b[0m\u001b[37m\u001b[0m \u001b[1m76s\u001b[0m 81ms/step - loss: 0.0740\n",
      "Epoch 35/50\n",
      "\u001b[1m938/938\u001b[0m \u001b[32m━━━━━━━━━━━━━━━━━━━━\u001b[0m\u001b[37m\u001b[0m \u001b[1m76s\u001b[0m 81ms/step - loss: 0.0741\n",
      "Epoch 36/50\n",
      "\u001b[1m938/938\u001b[0m \u001b[32m━━━━━━━━━━━━━━━━━━━━\u001b[0m\u001b[37m\u001b[0m \u001b[1m76s\u001b[0m 81ms/step - loss: 0.0740\n",
      "Epoch 37/50\n",
      "\u001b[1m938/938\u001b[0m \u001b[32m━━━━━━━━━━━━━━━━━━━━\u001b[0m\u001b[37m\u001b[0m \u001b[1m76s\u001b[0m 81ms/step - loss: 0.0740\n",
      "Epoch 38/50\n",
      "\u001b[1m938/938\u001b[0m \u001b[32m━━━━━━━━━━━━━━━━━━━━\u001b[0m\u001b[37m\u001b[0m \u001b[1m76s\u001b[0m 81ms/step - loss: 0.0740\n",
      "Epoch 39/50\n",
      "\u001b[1m938/938\u001b[0m \u001b[32m━━━━━━━━━━━━━━━━━━━━\u001b[0m\u001b[37m\u001b[0m \u001b[1m76s\u001b[0m 81ms/step - loss: 0.0739\n",
      "Epoch 40/50\n",
      "\u001b[1m938/938\u001b[0m \u001b[32m━━━━━━━━━━━━━━━━━━━━\u001b[0m\u001b[37m\u001b[0m \u001b[1m76s\u001b[0m 81ms/step - loss: 0.0739\n",
      "Epoch 41/50\n",
      "\u001b[1m938/938\u001b[0m \u001b[32m━━━━━━━━━━━━━━━━━━━━\u001b[0m\u001b[37m\u001b[0m \u001b[1m76s\u001b[0m 81ms/step - loss: 0.0740\n",
      "Epoch 42/50\n",
      "\u001b[1m938/938\u001b[0m \u001b[32m━━━━━━━━━━━━━━━━━━━━\u001b[0m\u001b[37m\u001b[0m \u001b[1m76s\u001b[0m 81ms/step - loss: 0.0739\n",
      "Epoch 43/50\n",
      "\u001b[1m938/938\u001b[0m \u001b[32m━━━━━━━━━━━━━━━━━━━━\u001b[0m\u001b[37m\u001b[0m \u001b[1m77s\u001b[0m 82ms/step - loss: 0.0738\n",
      "Epoch 44/50\n",
      "\u001b[1m938/938\u001b[0m \u001b[32m━━━━━━━━━━━━━━━━━━━━\u001b[0m\u001b[37m\u001b[0m \u001b[1m76s\u001b[0m 81ms/step - loss: 0.0740\n",
      "Epoch 45/50\n",
      "\u001b[1m938/938\u001b[0m \u001b[32m━━━━━━━━━━━━━━━━━━━━\u001b[0m\u001b[37m\u001b[0m \u001b[1m76s\u001b[0m 81ms/step - loss: 0.0739\n",
      "Epoch 46/50\n",
      "\u001b[1m938/938\u001b[0m \u001b[32m━━━━━━━━━━━━━━━━━━━━\u001b[0m\u001b[37m\u001b[0m \u001b[1m77s\u001b[0m 82ms/step - loss: 0.0738\n",
      "Epoch 47/50\n",
      "\u001b[1m938/938\u001b[0m \u001b[32m━━━━━━━━━━━━━━━━━━━━\u001b[0m\u001b[37m\u001b[0m \u001b[1m76s\u001b[0m 81ms/step - loss: 0.0738\n",
      "Epoch 48/50\n",
      "\u001b[1m938/938\u001b[0m \u001b[32m━━━━━━━━━━━━━━━━━━━━\u001b[0m\u001b[37m\u001b[0m \u001b[1m77s\u001b[0m 82ms/step - loss: 0.0738\n",
      "Epoch 49/50\n",
      "\u001b[1m938/938\u001b[0m \u001b[32m━━━━━━━━━━━━━━━━━━━━\u001b[0m\u001b[37m\u001b[0m \u001b[1m78s\u001b[0m 83ms/step - loss: 0.0739\n",
      "Epoch 50/50\n",
      "\u001b[1m938/938\u001b[0m \u001b[32m━━━━━━━━━━━━━━━━━━━━\u001b[0m\u001b[37m\u001b[0m \u001b[1m78s\u001b[0m 83ms/step - loss: 0.0739\n"
     ]
    },
    {
     "data": {
      "text/plain": [
       "<keras.src.callbacks.history.History at 0x2401bb8b510>"
      ]
     },
     "execution_count": 67,
     "metadata": {},
     "output_type": "execute_result"
    }
   ],
   "source": [
    "(x_train, _), (x_test, _) = tf.keras.datasets.mnist.load_data()\n",
    "\n",
    "x_train = x_train.astype('float32') / 255.\n",
    "x_test = x_test.astype('float32') / 255.\n",
    "\n",
    "x_train_noisy = np.array([add_gaussian_noise(image) for image in x_train])\n",
    "x_test_noisy = np.array([add_gaussian_noise(image) for image in x_test])\n",
    "\n",
    "x_train_noisy = np.expand_dims(x_train_noisy, axis=-1)\n",
    "x_test_noisy = np.expand_dims(x_test_noisy, axis=-1)\n",
    "\n",
    "input_img = Input(shape=(28, 28, 1))\n",
    "x = Conv2D(128, (3, 3), activation='relu', padding='same')(input_img)\n",
    "x = MaxPooling2D((2, 2), padding='same')(x)\n",
    "x = Conv2D(64, (3, 3), activation='relu', padding='same')(x)\n",
    "encoded = MaxPooling2D((2, 2), padding='same')(x)\n",
    "\n",
    "x = Conv2D(64, (3, 3), activation='relu', padding='same')(encoded)\n",
    "x = UpSampling2D((2, 2))(x)\n",
    "x = Conv2D(128, (3, 3), activation='relu', padding='same')(x)\n",
    "x = UpSampling2D((2, 2))(x)\n",
    "decoded = Conv2D(1, (3, 3), activation='sigmoid', padding='same')(x)\n",
    "\n",
    "autoencoder = Model(input_img, decoded)\n",
    "autoencoder.compile(optimizer='adam', loss='binary_crossentropy')\n",
    "\n",
    "autoencoder.fit(x_train_noisy, x_train,\n",
    "                epochs=50,\n",
    "                batch_size=64,\n",
    "                shuffle=True)\n"
   ]
  },
  {
   "cell_type": "code",
   "execution_count": 114,
   "id": "7545c1de",
   "metadata": {},
   "outputs": [
    {
     "name": "stdout",
     "output_type": "stream",
     "text": [
      "Enter path to your image file: C:\\Users\\HP\\OneDrive\\Desktop\\ima4.png\n",
      "\u001b[1m1/1\u001b[0m \u001b[32m━━━━━━━━━━━━━━━━━━━━\u001b[0m\u001b[37m\u001b[0m \u001b[1m0s\u001b[0m 21ms/step\n"
     ]
    },
    {
     "data": {
      "image/png": "[encoded data removed]",
      "text/plain": [
       "<Figure size 500x400 with 3 Axes>"
      ]
     },
     "metadata": {},
     "output_type": "display_data"
    },
    {
     "name": "stdout",
     "output_type": "stream",
     "text": [
      "Mean Squared Error (MSE): 0.0019537194\n",
      "Peak Signal-to-Noise Ratio (PSNR): 27.09137807330467\n",
      "Structural Similarity Index (SSIM): 0.9771043760471108\n"
     ]
    }
   ],
   "source": [
    "image_path = input(\"Enter path to your image file: \")\n",
    "img = image.load_img(image_path, target_size=(28, 28), color_mode='grayscale')\n",
    "img_array = image.img_to_array(img)\n",
    "img_array /= 255.\n",
    "img_array = np.expand_dims(img_array, axis=0)\n",
    "\n",
    "noise_factor = 0.1\n",
    "noisy_img_array = add_gaussian_noise(img_array, noise_factor=noise_factor)\n",
    "#noisy_img_array = add_salt_and_pepper_noise(img_array, noise_amount=0.05)\n",
    "\n",
    "denoised_img_array = autoencoder.predict(noisy_img_array)\n",
    "\n",
    "plt.figure(figsize=(5, 4))\n",
    "plt.subplot(1, 3, 1)\n",
    "plt.title('Original Image')\n",
    "plt.imshow(img_array.reshape(28, 28), cmap='gray')\n",
    "plt.axis('off')\n",
    "\n",
    "plt.subplot(1, 3, 2)\n",
    "plt.title('Noisy Image')\n",
    "plt.imshow(noisy_img_array.reshape(28, 28), cmap='gray')\n",
    "plt.axis('off')\n",
    "\n",
    "plt.subplot(1, 3, 3)\n",
    "plt.title('Denoised Image')\n",
    "plt.imshow(denoised_img_array.reshape(28, 28), cmap='gray')\n",
    "plt.axis('off')\n",
    "\n",
    "plt.show()\n",
    "\n",
    "mse = mean_squared_error(img_array.flatten(), denoised_img_array.flatten())\n",
    "psnr = 10 * np.log10(1.0 / mse)\n",
    "ssim_score = ssim(img_array.squeeze(), denoised_img_array.squeeze(), data_range=1.0)\n",
    "\n",
    "print(\"Mean Squared Error (MSE):\", mse)\n",
    "print(\"Peak Signal-to-Noise Ratio (PSNR):\", psnr)\n",
    "print(\"Structural Similarity Index (SSIM):\", ssim_score)\n"
   ]
  },
  {
   "cell_type": "code",
   "execution_count": 122,
   "id": "210b22ec",
   "metadata": {},
   "outputs": [
    {
     "data": {
      "text/plain": [
       "True"
      ]
     },
     "execution_count": 122,
     "metadata": {},
     "output_type": "execute_result"
    }
   ],
   "source": [
    "# For Inverting an image\n",
    "\n",
    "import cv2\n",
    "image = cv2.imread(r\"C:\\Users\\HP\\OneDrive\\Desktop\\im10.png\")\n",
    "gray_image = cv2.cvtColor(image, cv2.COLOR_BGR2GRAY)\n",
    "inverted_image = cv2.bitwise_not(gray_image)\n",
    "cv2.imshow('',inverted_image)\n",
    "cv2.waitKey(0)\n",
    "cv2.imwrite(r\"C:\\Users\\HP\\Downloads\\inverted_image.jpg\", inverted_image)"
   ]
  },
  {
   "cell_type": "code",
   "execution_count": null,
   "id": "6841e0cc",
   "metadata": {},
   "outputs": [],
   "source": []
  }
 ],
 "metadata": {
  "kernelspec": {
   "display_name": "Python 3 (ipykernel)",
   "language": "python",
   "name": "python3"
  },
  "language_info": {
   "codemirror_mode": {
    "name": "ipython",
    "version": 3
   },
   "file_extension": ".py",
   "mimetype": "text/x-python",
   "name": "python",
   "nbconvert_exporter": "python",
   "pygments_lexer": "ipython3",
   "version": "3.11.5"
  }
 },
 "nbformat": 4,
 "nbformat_minor": 5
}
